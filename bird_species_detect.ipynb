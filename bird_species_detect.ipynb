{
  "nbformat": 4,
  "nbformat_minor": 0,
  "metadata": {
    "colab": {
      "name": "딥러닝응용_term_project_안현.ipynb",
      "provenance": [],
      "collapsed_sections": [],
      "include_colab_link": true
    },
    "kernelspec": {
      "name": "python3",
      "display_name": "Python 3"
    },
    "language_info": {
      "name": "python"
    },
    "accelerator": "GPU",
    "gpuClass": "standard"
  },
  "cells": [
    {
      "cell_type": "markdown",
      "metadata": {
        "id": "view-in-github",
        "colab_type": "text"
      },
      "source": [
        "<a href=\"https://colab.research.google.com/github/Crane-lupert/birdobjectdetection_2022/blob/main/bird_species_detect.ipynb\" target=\"_parent\"><img src=\"https://colab.research.google.com/assets/colab-badge.svg\" alt=\"Open In Colab\"/></a>"
      ]
    },
    {
      "cell_type": "code",
      "source": [
        "    # TensorFlow and tf.keras\n",
        "import tensorflow as tf\n",
        "from tensorflow import keras\n",
        "\n",
        "# Helper libraries\n",
        "import numpy as np\n",
        "import matplotlib.pyplot as plt\n",
        "\n",
        "print(tf.__version__)"
      ],
      "metadata": {
        "id": "CIUiPCHGba2r",
        "colab": {
          "base_uri": "https://localhost:8080/"
        },
        "outputId": "d0e58d55-ba98-47b9-9601-7c1763707bab"
      },
      "execution_count": null,
      "outputs": [
        {
          "output_type": "stream",
          "name": "stdout",
          "text": [
            "2.8.2\n"
          ]
        }
      ]
    },
    {
      "cell_type": "code",
      "source": [
        "from google.colab import drive\n",
        "drive.mount('/content/drive')"
      ],
      "metadata": {
        "colab": {
          "base_uri": "https://localhost:8080/"
        },
        "id": "vJOJPh-2Hq9i",
        "outputId": "572e68c2-5344-4bd8-a870-786c4cdc081b"
      },
      "execution_count": null,
      "outputs": [
        {
          "output_type": "stream",
          "name": "stdout",
          "text": [
            "Mounted at /content/drive\n"
          ]
        }
      ]
    },
    {
      "cell_type": "code",
      "source": [
        "def get_counts(dataset_path,dataset_type):\n",
        "  \"\"\"Takes dataset's folder path and returns some basic details like species count, images count, height, width etc.\"\"\"\n",
        "  all_species_count = len(os.listdir(dataset_path))\n",
        "  all_species_names=[]\n",
        "  species_image_count=[]\n",
        "  all_heights=[]\n",
        "  all_widths=[]\n",
        "  for i in tqdm(os.listdir(dataset_path)):\n",
        "    all_species_names.append(i)\n",
        "    species_folder_path = dataset_path + \"/\" + i + \"/\"\n",
        "    species_image_count.append(len(os.listdir(species_folder_path)))\n",
        "    for j in os.listdir(species_folder_path):\n",
        "      filename = species_folder_path + j\n",
        "      image = imread(filename)\n",
        "      all_heights.append(image.shape[0])\n",
        "      all_widths.append(image.shape[1])\n",
        "  print()\n",
        "  print(f\"Total no. of species in {dataset_type}= {all_species_count}\")\n",
        "  return all_species_names,species_image_count,all_heights,all_widths"
      ],
      "metadata": {
        "id": "Lx1hDyq0HlZi"
      },
      "execution_count": null,
      "outputs": []
    },
    {
      "cell_type": "code",
      "source": [
        "import os\n",
        "from tqdm import tqdm\n",
        "from cv2 import imread\n",
        "#/content/drive/MyDrive/archive/train\n",
        "train_species_names,train_species_image_count,train_images_heights,train_images_widths = get_counts(dataset_path=\"/content/drive/MyDrive/archive_100/train_data/train_data\",dataset_type=\"train\")\n",
        "# val_species_names,val_species_image_count,val_images_heights,val_images_widths = get_counts(dataset_path=\"/content/drive/MyDrive/archive_100/valid\",dataset_type=\"validation\")\n",
        "test_species_names,test_species_image_count,test_images_heights,test_images_widths = get_counts(dataset_path=\"/content/drive/MyDrive/archive_100/test_data/test_data\",dataset_type=\"test\")\n",
        "# #data load\n",
        "# # one only\n",
        "# os.rename(src=\"/content/drive/MyDrive/archive/train/BLACK & YELLOW  BROADBILL\",dst=\"/content/drive/MyDrive/archive/train/BLACK & YELLOW BROADBILL\")\n",
        "# check = sorted(os.listdir(\"/content/drive/MyDrive/archive/train/\")) == sorted(os.listdir(\"/content/drive/MyDrive/archive/valid/\")) == sorted(os.listdir(\"/content/drive/MyDrive/archive/test/\"))\n",
        "# print(\"Are all species names same in train, validation & test datasets now? -->\",check)\n"
      ],
      "metadata": {
        "id": "f-S98VDvIKpv",
        "colab": {
          "base_uri": "https://localhost:8080/",
          "height": 460
        },
        "outputId": "630aae3b-7f0d-4a60-ee51-3992e66f8926"
      },
      "execution_count": null,
      "outputs": [
        {
          "output_type": "stream",
          "name": "stderr",
          "text": [
            "100%|██████████| 16/16 [05:18<00:00, 19.89s/it]\n"
          ]
        },
        {
          "output_type": "stream",
          "name": "stdout",
          "text": [
            "\n",
            "Total no. of species in train= 16\n"
          ]
        },
        {
          "output_type": "stream",
          "name": "stderr",
          "text": [
            " 44%|████▍     | 7/16 [03:01<03:53, 26.00s/it]\n"
          ]
        },
        {
          "output_type": "error",
          "ename": "KeyboardInterrupt",
          "evalue": "ignored",
          "traceback": [
            "\u001b[0;31m---------------------------------------------------------------------------\u001b[0m",
            "\u001b[0;31mKeyboardInterrupt\u001b[0m                         Traceback (most recent call last)",
            "\u001b[0;32m<ipython-input-4-036734b975f0>\u001b[0m in \u001b[0;36m<module>\u001b[0;34m()\u001b[0m\n\u001b[1;32m      5\u001b[0m \u001b[0mtrain_species_names\u001b[0m\u001b[0;34m,\u001b[0m\u001b[0mtrain_species_image_count\u001b[0m\u001b[0;34m,\u001b[0m\u001b[0mtrain_images_heights\u001b[0m\u001b[0;34m,\u001b[0m\u001b[0mtrain_images_widths\u001b[0m \u001b[0;34m=\u001b[0m \u001b[0mget_counts\u001b[0m\u001b[0;34m(\u001b[0m\u001b[0mdataset_path\u001b[0m\u001b[0;34m=\u001b[0m\u001b[0;34m\"/content/drive/MyDrive/archive_100/train_data/train_data\"\u001b[0m\u001b[0;34m,\u001b[0m\u001b[0mdataset_type\u001b[0m\u001b[0;34m=\u001b[0m\u001b[0;34m\"train\"\u001b[0m\u001b[0;34m)\u001b[0m\u001b[0;34m\u001b[0m\u001b[0;34m\u001b[0m\u001b[0m\n\u001b[1;32m      6\u001b[0m \u001b[0;31m# val_species_names,val_species_image_count,val_images_heights,val_images_widths = get_counts(dataset_path=\"/content/drive/MyDrive/archive_100/valid\",dataset_type=\"validation\")\u001b[0m\u001b[0;34m\u001b[0m\u001b[0;34m\u001b[0m\u001b[0;34m\u001b[0m\u001b[0m\n\u001b[0;32m----> 7\u001b[0;31m \u001b[0mtest_species_names\u001b[0m\u001b[0;34m,\u001b[0m\u001b[0mtest_species_image_count\u001b[0m\u001b[0;34m,\u001b[0m\u001b[0mtest_images_heights\u001b[0m\u001b[0;34m,\u001b[0m\u001b[0mtest_images_widths\u001b[0m \u001b[0;34m=\u001b[0m \u001b[0mget_counts\u001b[0m\u001b[0;34m(\u001b[0m\u001b[0mdataset_path\u001b[0m\u001b[0;34m=\u001b[0m\u001b[0;34m\"/content/drive/MyDrive/archive_100/test_data/test_data\"\u001b[0m\u001b[0;34m,\u001b[0m\u001b[0mdataset_type\u001b[0m\u001b[0;34m=\u001b[0m\u001b[0;34m\"test\"\u001b[0m\u001b[0;34m)\u001b[0m\u001b[0;34m\u001b[0m\u001b[0;34m\u001b[0m\u001b[0m\n\u001b[0m\u001b[1;32m      8\u001b[0m \u001b[0;31m# #data load\u001b[0m\u001b[0;34m\u001b[0m\u001b[0;34m\u001b[0m\u001b[0;34m\u001b[0m\u001b[0m\n\u001b[1;32m      9\u001b[0m \u001b[0;31m# # one only\u001b[0m\u001b[0;34m\u001b[0m\u001b[0;34m\u001b[0m\u001b[0;34m\u001b[0m\u001b[0m\n",
            "\u001b[0;32m<ipython-input-3-773cf9130bcd>\u001b[0m in \u001b[0;36mget_counts\u001b[0;34m(dataset_path, dataset_type)\u001b[0m\n\u001b[1;32m     12\u001b[0m     \u001b[0;32mfor\u001b[0m \u001b[0mj\u001b[0m \u001b[0;32min\u001b[0m \u001b[0mos\u001b[0m\u001b[0;34m.\u001b[0m\u001b[0mlistdir\u001b[0m\u001b[0;34m(\u001b[0m\u001b[0mspecies_folder_path\u001b[0m\u001b[0;34m)\u001b[0m\u001b[0;34m:\u001b[0m\u001b[0;34m\u001b[0m\u001b[0;34m\u001b[0m\u001b[0m\n\u001b[1;32m     13\u001b[0m       \u001b[0mfilename\u001b[0m \u001b[0;34m=\u001b[0m \u001b[0mspecies_folder_path\u001b[0m \u001b[0;34m+\u001b[0m \u001b[0mj\u001b[0m\u001b[0;34m\u001b[0m\u001b[0;34m\u001b[0m\u001b[0m\n\u001b[0;32m---> 14\u001b[0;31m       \u001b[0mimage\u001b[0m \u001b[0;34m=\u001b[0m \u001b[0mimread\u001b[0m\u001b[0;34m(\u001b[0m\u001b[0mfilename\u001b[0m\u001b[0;34m)\u001b[0m\u001b[0;34m\u001b[0m\u001b[0;34m\u001b[0m\u001b[0m\n\u001b[0m\u001b[1;32m     15\u001b[0m       \u001b[0mall_heights\u001b[0m\u001b[0;34m.\u001b[0m\u001b[0mappend\u001b[0m\u001b[0;34m(\u001b[0m\u001b[0mimage\u001b[0m\u001b[0;34m.\u001b[0m\u001b[0mshape\u001b[0m\u001b[0;34m[\u001b[0m\u001b[0;36m0\u001b[0m\u001b[0;34m]\u001b[0m\u001b[0;34m)\u001b[0m\u001b[0;34m\u001b[0m\u001b[0;34m\u001b[0m\u001b[0m\n\u001b[1;32m     16\u001b[0m       \u001b[0mall_widths\u001b[0m\u001b[0;34m.\u001b[0m\u001b[0mappend\u001b[0m\u001b[0;34m(\u001b[0m\u001b[0mimage\u001b[0m\u001b[0;34m.\u001b[0m\u001b[0mshape\u001b[0m\u001b[0;34m[\u001b[0m\u001b[0;36m1\u001b[0m\u001b[0;34m]\u001b[0m\u001b[0;34m)\u001b[0m\u001b[0;34m\u001b[0m\u001b[0;34m\u001b[0m\u001b[0m\n",
            "\u001b[0;31mKeyboardInterrupt\u001b[0m: "
          ]
        }
      ]
    },
    {
      "cell_type": "code",
      "source": [
        "# #224*224*3\n",
        "# #data while load into case\n",
        "# parent_dir = \"/content/drive/MyDrive/archive/train/\"\n",
        "# all_subdirs = os.listdir(parent_dir)\n",
        "# chosen_species_dir = all_subdirs[random.randint(0,401)]\n",
        "# chosen_dir = parent_dir + chosen_species_dir\n",
        "# all_images_in_chosen_dir = os.listdir(chosen_dir)\n",
        "# chosen_img = chosen_dir + \"/\" +all_images_in_chosen_dir[random.randint(0,len(all_images_in_chosen_dir)-1)]\n",
        "# image = imread(chosen_img)\n",
        "# # image = imread(\"/content/drive/MyDrive/archive/train/ABBOTTS BABBLER/001.jpg\")\n",
        "# plt.title(chosen_species_dir)\n",
        "# plt.imshow(image)\n",
        "# image.shape"
      ],
      "metadata": {
        "id": "DUBTeztd0aD4"
      },
      "execution_count": null,
      "outputs": []
    },
    {
      "cell_type": "code",
      "source": [
        "#224*224*3\n",
        "#data load test\n",
        "import numpy as np\n",
        "from cv2 import resize\n",
        "def getin(dir):\n",
        "    train_images=[]\n",
        "    train_labels=[]\n",
        "    parent_dir = dir\n",
        "    all_subdirs = os.listdir(parent_dir)\n",
        "    for i in range(len(all_subdirs)):\n",
        "        chosen_species_dir = all_subdirs[i]\n",
        "        chosen_dir = parent_dir + chosen_species_dir    \n",
        "        all_images_in_chosen_dir = os.listdir(chosen_dir)\n",
        "        for j in range(len(all_images_in_chosen_dir)):\n",
        "            chosen_img = chosen_dir + \"/\" +all_images_in_chosen_dir[j]\n",
        "            image = resize(imread(chosen_img), (128,128))#해상도 축소+통일\n",
        "            train_images.append(image)\n",
        "            train_labels.append(chosen_species_dir)\n",
        "    return train_images, train_labels"
      ],
      "metadata": {
        "id": "KCHU7CnAbgAQ"
      },
      "execution_count": null,
      "outputs": []
    },
    {
      "cell_type": "code",
      "source": [
        "train_images, train_labels = getin(\"/content/drive/MyDrive/archive_100/train_data/train_data/\")\n",
        "test_images, test_labels = getin(\"/content/drive/MyDrive/archive_100/test_data/test_data/\")"
      ],
      "metadata": {
        "id": "f7S2hdxEx_4k"
      },
      "execution_count": null,
      "outputs": []
    },
    {
      "cell_type": "code",
      "source": [
        "train_images, train_labels=np.array(train_images), np.array(train_labels)\n",
        "test_images, test_labels=np.array(test_images), np.array(test_labels)"
      ],
      "metadata": {
        "id": "s0nu2HdHKFRs"
      },
      "execution_count": null,
      "outputs": []
    },
    {
      "cell_type": "code",
      "source": [
        "train_images, test_images = train_images / 255.0, test_images / 255.0"
      ],
      "metadata": {
        "id": "Uz4qupdtLXix"
      },
      "execution_count": null,
      "outputs": []
    },
    {
      "cell_type": "code",
      "source": [
        "from tensorflow.keras.utils import to_categorical\n",
        "\n",
        "typ = set(train_labels)\n",
        "def category_change(label):\n",
        "    ind = 0\n",
        "    for t in typ:\n",
        "        label[label==t]=ind\n",
        "        ind+=1\n",
        "    return to_categorical(label)"
      ],
      "metadata": {
        "id": "xECUEkVclwVR"
      },
      "execution_count": null,
      "outputs": []
    },
    {
      "cell_type": "code",
      "source": [
        "train_labels = category_change(train_labels)\n",
        "test_labels = category_change(test_labels)"
      ],
      "metadata": {
        "id": "sgx8ozBzO5HT"
      },
      "execution_count": null,
      "outputs": []
    },
    {
      "cell_type": "code",
      "source": [
        "len(typ)"
      ],
      "metadata": {
        "id": "hgwkfRrcnxEX",
        "colab": {
          "base_uri": "https://localhost:8080/"
        },
        "outputId": "28c33450-b997-4324-d9f6-a4d5e7a0793d"
      },
      "execution_count": null,
      "outputs": [
        {
          "output_type": "execute_result",
          "data": {
            "text/plain": [
              "16"
            ]
          },
          "metadata": {},
          "execution_count": 35
        }
      ]
    },
    {
      "cell_type": "code",
      "source": [
        "from keras import models\n",
        "from keras import layers\n",
        "\n",
        "model1 = models.Sequential()\n",
        "model1.add(layers.Conv2D(8, (3,3), padding='same', input_shape=(128, 128, 3), activation='relu'))\n",
        "model1.add(layers.pooling.MaxPooling2D(pool_size=(2,2)))\n",
        "model1.add(layers.Dropout(0.2))\n",
        "\n",
        "model1.add(layers.Conv2D(16, (3,3), padding='same', activation='relu'))\n",
        "model1.add(layers.pooling.MaxPooling2D(pool_size=(2,2)))\n",
        "model1.add(layers.Dropout(0.3))\n",
        "\n",
        "model1.add(layers.Conv2D(32, (3,3), padding='same', activation='relu'))\n",
        "model1.add(layers.pooling.MaxPooling2D(pool_size=(2,2)))\n",
        "model1.add(layers.Dropout(0.3))\n",
        "\n",
        "model1.add(layers.Conv2D(64, (3,3), padding='same', activation='relu'))\n",
        "model1.add(layers.pooling.MaxPooling2D(pool_size=(2,2)))\n",
        "model1.add(layers.Dropout(0.3))\n",
        "\n",
        "model1.add(layers.Flatten())\n",
        "model1.add(layers.Dense(64, activation='relu'))\n",
        "model1.add(layers.Dense(32, activation='relu'))\n",
        "model1.add(layers.Dense(16, activation='softmax'))\n",
        "\n",
        "model1.compile(loss='categorical_crossentropy', \n",
        "               optimizer='adam', \n",
        "               metrics=['accuracy'])"
      ],
      "metadata": {
        "id": "AY9RT_KDc7nw"
      },
      "execution_count": null,
      "outputs": []
    },
    {
      "cell_type": "code",
      "source": [
        "history = model1.fit(train_images,\n",
        "           train_labels,\n",
        "           epochs=30,\n",
        "           batch_size=32,\n",
        "           validation_split=0.1)"
      ],
      "metadata": {
        "id": "QsC3A0MS-LaS",
        "colab": {
          "base_uri": "https://localhost:8080/"
        },
        "outputId": "494515d8-078d-4674-c300-250ed6e221dc"
      },
      "execution_count": null,
      "outputs": [
        {
          "output_type": "stream",
          "name": "stdout",
          "text": [
            "Epoch 1/30\n",
            "5/5 [==============================] - 1s 64ms/step - loss: 2.8281 - accuracy: 0.1037 - val_loss: 2.8261 - val_accuracy: 0.0000e+00\n",
            "Epoch 2/30\n",
            "5/5 [==============================] - 0s 24ms/step - loss: 2.7069 - accuracy: 0.1259 - val_loss: 2.8351 - val_accuracy: 0.0000e+00\n",
            "Epoch 3/30\n",
            "5/5 [==============================] - 0s 23ms/step - loss: 2.6498 - accuracy: 0.1556 - val_loss: 2.8841 - val_accuracy: 0.0000e+00\n",
            "Epoch 4/30\n",
            "5/5 [==============================] - 0s 22ms/step - loss: 2.6201 - accuracy: 0.1481 - val_loss: 2.9047 - val_accuracy: 0.0000e+00\n",
            "Epoch 5/30\n",
            "5/5 [==============================] - 0s 22ms/step - loss: 2.5703 - accuracy: 0.1556 - val_loss: 2.8899 - val_accuracy: 0.0000e+00\n",
            "Epoch 6/30\n",
            "5/5 [==============================] - 0s 21ms/step - loss: 2.5035 - accuracy: 0.2074 - val_loss: 2.9018 - val_accuracy: 0.0000e+00\n",
            "Epoch 7/30\n",
            "5/5 [==============================] - 0s 21ms/step - loss: 2.4509 - accuracy: 0.1926 - val_loss: 2.9215 - val_accuracy: 0.0000e+00\n",
            "Epoch 8/30\n",
            "5/5 [==============================] - 0s 22ms/step - loss: 2.4299 - accuracy: 0.2074 - val_loss: 2.9184 - val_accuracy: 0.0667\n",
            "Epoch 9/30\n",
            "5/5 [==============================] - 0s 19ms/step - loss: 2.3815 - accuracy: 0.2074 - val_loss: 2.9263 - val_accuracy: 0.2000\n",
            "Epoch 10/30\n",
            "5/5 [==============================] - 0s 19ms/step - loss: 2.3125 - accuracy: 0.2370 - val_loss: 2.9974 - val_accuracy: 0.1333\n",
            "Epoch 11/30\n",
            "5/5 [==============================] - 0s 20ms/step - loss: 2.2916 - accuracy: 0.2222 - val_loss: 3.1290 - val_accuracy: 0.2000\n",
            "Epoch 12/30\n",
            "5/5 [==============================] - 0s 19ms/step - loss: 2.2152 - accuracy: 0.2296 - val_loss: 3.0970 - val_accuracy: 0.2000\n",
            "Epoch 13/30\n",
            "5/5 [==============================] - 0s 20ms/step - loss: 2.1882 - accuracy: 0.2370 - val_loss: 3.0920 - val_accuracy: 0.0000e+00\n",
            "Epoch 14/30\n",
            "5/5 [==============================] - 0s 17ms/step - loss: 2.1324 - accuracy: 0.2444 - val_loss: 3.2190 - val_accuracy: 0.0000e+00\n",
            "Epoch 15/30\n",
            "5/5 [==============================] - 0s 19ms/step - loss: 2.0507 - accuracy: 0.2667 - val_loss: 3.5544 - val_accuracy: 0.0000e+00\n",
            "Epoch 16/30\n",
            "5/5 [==============================] - 0s 21ms/step - loss: 2.0255 - accuracy: 0.2741 - val_loss: 3.8415 - val_accuracy: 0.0000e+00\n",
            "Epoch 17/30\n",
            "5/5 [==============================] - 0s 20ms/step - loss: 1.9971 - accuracy: 0.2667 - val_loss: 3.6161 - val_accuracy: 0.0000e+00\n",
            "Epoch 18/30\n",
            "5/5 [==============================] - 0s 22ms/step - loss: 1.9156 - accuracy: 0.3037 - val_loss: 3.8931 - val_accuracy: 0.0000e+00\n",
            "Epoch 19/30\n",
            "5/5 [==============================] - 0s 19ms/step - loss: 1.9155 - accuracy: 0.3185 - val_loss: 3.9210 - val_accuracy: 0.0000e+00\n",
            "Epoch 20/30\n",
            "5/5 [==============================] - 0s 20ms/step - loss: 1.8822 - accuracy: 0.3407 - val_loss: 4.6564 - val_accuracy: 0.0000e+00\n",
            "Epoch 21/30\n",
            "5/5 [==============================] - 0s 19ms/step - loss: 1.8325 - accuracy: 0.3481 - val_loss: 4.8477 - val_accuracy: 0.0000e+00\n",
            "Epoch 22/30\n",
            "5/5 [==============================] - 0s 17ms/step - loss: 1.7759 - accuracy: 0.3704 - val_loss: 4.6772 - val_accuracy: 0.0000e+00\n",
            "Epoch 23/30\n",
            "5/5 [==============================] - 0s 17ms/step - loss: 1.7560 - accuracy: 0.3852 - val_loss: 4.8422 - val_accuracy: 0.0000e+00\n",
            "Epoch 24/30\n",
            "5/5 [==============================] - 0s 17ms/step - loss: 1.7626 - accuracy: 0.3630 - val_loss: 5.6252 - val_accuracy: 0.0667\n",
            "Epoch 25/30\n",
            "5/5 [==============================] - 0s 19ms/step - loss: 1.7304 - accuracy: 0.3556 - val_loss: 5.9066 - val_accuracy: 0.0000e+00\n",
            "Epoch 26/30\n",
            "5/5 [==============================] - 0s 17ms/step - loss: 1.5558 - accuracy: 0.4889 - val_loss: 6.6047 - val_accuracy: 0.0667\n",
            "Epoch 27/30\n",
            "5/5 [==============================] - 0s 19ms/step - loss: 1.7472 - accuracy: 0.4296 - val_loss: 5.6461 - val_accuracy: 0.0000e+00\n",
            "Epoch 28/30\n",
            "5/5 [==============================] - 0s 17ms/step - loss: 1.5375 - accuracy: 0.4815 - val_loss: 5.5420 - val_accuracy: 0.0000e+00\n",
            "Epoch 29/30\n",
            "5/5 [==============================] - 0s 20ms/step - loss: 1.5182 - accuracy: 0.4370 - val_loss: 6.2949 - val_accuracy: 0.0000e+00\n",
            "Epoch 30/30\n",
            "5/5 [==============================] - 0s 17ms/step - loss: 1.4749 - accuracy: 0.4889 - val_loss: 6.3842 - val_accuracy: 0.0000e+00\n"
          ]
        }
      ]
    },
    {
      "cell_type": "code",
      "source": [
        "import matplotlib.pyplot as plt\n",
        "\n",
        "acc = history.history['accuracy']\n",
        "val_acc = history.history['val_accuracy']\n",
        "loss = history.history['loss']\n",
        "val_loss = history.history['val_loss']\n",
        "\n",
        "epochs = range(1, len(acc) + 1)\n",
        "\n",
        "# \"bo\" is for \"blue dot\"\n",
        "plt.plot(epochs, loss, 'r', label='Training loss')\n",
        "# b is for \"solid blue line\"\n",
        "plt.plot(epochs, val_loss, 'b', label='Validation loss')\n",
        "plt.title('Training and validation loss')\n",
        "plt.xlabel('Epochs')\n",
        "plt.ylabel('Loss')\n",
        "plt.legend()\n",
        "\n",
        "plt.show()"
      ],
      "metadata": {
        "colab": {
          "base_uri": "https://localhost:8080/",
          "height": 295
        },
        "id": "Nz2CIckIqbRe",
        "outputId": "61cc133a-fc7f-4646-f271-17454f87d7b7"
      },
      "execution_count": null,
      "outputs": [
        {
          "output_type": "display_data",
          "data": {
            "text/plain": [
              "<Figure size 432x288 with 1 Axes>"
            ],
            "image/png": "[encoded data removed]"
          },
          "metadata": {
            "needs_background": "light"
          }
        }
      ]
    },
    {
      "cell_type": "code",
      "source": [
        "plt.clf()   # clear figure\n",
        "history_dict = history.history\n",
        "acc_values = history_dict['accuracy']\n",
        "val_acc_values = history_dict['val_accuracy']\n",
        "\n",
        "plt.plot(epochs, acc_values, 'r', label='Training acc')\n",
        "plt.plot(epochs, val_acc_values, 'b', label='Validation acc')\n",
        "plt.title('Training and validation accuracy')\n",
        "plt.ylabel('Loss')\n",
        "plt.legend()\n",
        "\n",
        "plt.show()"
      ],
      "metadata": {
        "colab": {
          "base_uri": "https://localhost:8080/",
          "height": 281
        },
        "id": "XWhTDGpqqr2X",
        "outputId": "0ba993ec-0259-41a4-8dd2-6185f245f0a1"
      },
      "execution_count": null,
      "outputs": [
        {
          "output_type": "display_data",
          "data": {
            "text/plain": [
              "<Figure size 432x288 with 1 Axes>"
            ],
            "image/png": "[encoded data removed]"
          },
          "metadata": {
            "needs_background": "light"
          }
        }
      ]
    },
    {
      "cell_type": "code",
      "source": [
        "#위 그래프를 보건데 epoch은 240이 적절하다 판단됨\n",
        "history = model1.fit(train_images,\n",
        "           train_labels,\n",
        "           epochs=30,\n",
        "           batch_size=32,\n",
        "           verbose=0)"
      ],
      "metadata": {
        "id": "z9ScCqh_q95K"
      },
      "execution_count": null,
      "outputs": []
    },
    {
      "cell_type": "code",
      "source": [
        "print(model1.evaluate(test_images, test_labels)[1])#test accuracy"
      ],
      "metadata": {
        "colab": {
          "base_uri": "https://localhost:8080/"
        },
        "id": "Yi5QdEYirVUc",
        "outputId": "32350aec-1bb5-4f53-e91a-093fcf129a95"
      },
      "execution_count": null,
      "outputs": [
        {
          "output_type": "stream",
          "name": "stdout",
          "text": [
            "5/5 [==============================] - 0s 40ms/step - loss: 7.0624 - accuracy: 0.3121\n",
            "0.31210190057754517\n"
          ]
        }
      ]
    },
    {
      "cell_type": "code",
      "source": [
        ""
      ],
      "metadata": {
        "id": "HfId4eoOuDfa"
      },
      "execution_count": null,
      "outputs": []
    }
  ]
}